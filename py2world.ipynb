{
 "metadata": {
  "name": "",
  "signature": "sha256:08d61b6c459643da2370d7fcac9ebfcb992f020c29b8b2863bce2e992e6eb018"
 },
 "nbformat": 3,
 "nbformat_minor": 0,
 "worksheets": [
  {
   "cells": [
    {
     "cell_type": "heading",
     "level": 1,
     "metadata": {},
     "source": [
      "Multi-languages Interactions with Python"
     ]
    },
    {
     "cell_type": "markdown",
     "metadata": {},
     "source": [
      "by Gabriel von Winckler <winckler@ncc.unesp.br>"
     ]
    },
    {
     "cell_type": "markdown",
     "metadata": {},
     "source": [
      "## Why?\n",
      "\n",
      "### Possible project workflow\n",
      "\n",
      " 1. Prototype\n",
      " 1. Profile\n",
      "   * Bottleneck\n",
      "   * memory footprint\n",
      " 1. Optimize within python (Numpy / Scipy!)\n",
      " 1. **Optimize with external code (C, Fortran)**\n",
      "   * Better if using an existing library!"
     ]
    },
    {
     "cell_type": "markdown",
     "metadata": {},
     "source": [
      "## Example 1\n",
      "\n",
      "Sum the absolute value of the elements on an array (float)"
     ]
    },
    {
     "cell_type": "code",
     "collapsed": false,
     "input": [
      "import random\n",
      "\n",
      "n_elements = 1000000\n",
      "values = [random.random() for _ in xrange(n_elements)]"
     ],
     "language": "python",
     "metadata": {},
     "outputs": [],
     "prompt_number": 2
    },
    {
     "cell_type": "heading",
     "level": 3,
     "metadata": {},
     "source": [
      "Example 1, take 1 - Python"
     ]
    },
    {
     "cell_type": "code",
     "collapsed": false,
     "input": [
      "def abs_sum_python(values):\n",
      "  total = 0;\n",
      "  for i in values:\n",
      "    total += abs(i)\n",
      "  return total\n",
      "\n",
      "# abs_sum_python(values)\n",
      "%timeit -n 100 abs_sum_python(values)"
     ],
     "language": "python",
     "metadata": {},
     "outputs": [
      {
       "output_type": "stream",
       "stream": "stdout",
       "text": [
        "100 loops, best of 3: 82.1 ms per loop\n"
       ]
      }
     ],
     "prompt_number": 3
    },
    {
     "cell_type": "heading",
     "level": 3,
     "metadata": {},
     "source": [
      "Example 1, take 2 - Thinking in C"
     ]
    },
    {
     "cell_type": "code",
     "collapsed": false,
     "input": [
      "def abs_sum_c_in_python(values):\n",
      "  total = 0;\n",
      "  for i in range(len(values)):\n",
      "    total += abs(values[i])\n",
      "  return total\n",
      "\n",
      "# abs_sum_c_in_python(values)\n",
      "%timeit -n 100 abs_sum_c_in_python(values)"
     ],
     "language": "python",
     "metadata": {},
     "outputs": [
      {
       "output_type": "stream",
       "stream": "stdout",
       "text": [
        "100 loops, best of 3: 116 ms per loop\n"
       ]
      }
     ],
     "prompt_number": 4
    },
    {
     "cell_type": "heading",
     "level": 3,
     "metadata": {},
     "source": [
      "Example 1, take 3 - True python heart"
     ]
    },
    {
     "cell_type": "code",
     "collapsed": false,
     "input": [
      "def abs_sum_very_python(values):\n",
      "  return sum(map(abs,values))\n",
      "\n",
      "# abs_sum_very_python(values)\n",
      "%timeit -n 100 abs_sum_very_python(values)"
     ],
     "language": "python",
     "metadata": {},
     "outputs": [
      {
       "output_type": "stream",
       "stream": "stdout",
       "text": [
        "100 loops, best of 3: 60.2 ms per loop\n"
       ]
      }
     ],
     "prompt_number": 5
    },
    {
     "cell_type": "heading",
     "level": 3,
     "metadata": {},
     "source": [
      "Example 1, take 4 - Numpy"
     ]
    },
    {
     "cell_type": "code",
     "collapsed": false,
     "input": [
      "import numpy as np\n",
      "def abs_sum_numpy(values):\n",
      "  return np.sum(np.absolute(values))\n",
      "\n",
      "values_np = np.random.rand(n_elements)\n",
      "\n",
      "# abs_sum_numpy(values_np)\n",
      "%timeit -n 100 abs_sum_numpy(values_np)"
     ],
     "language": "python",
     "metadata": {},
     "outputs": [
      {
       "output_type": "stream",
       "stream": "stdout",
       "text": [
        "100 loops, best of 3: 2.66 ms per loop\n"
       ]
      }
     ],
     "prompt_number": 6
    },
    {
     "cell_type": "heading",
     "level": 3,
     "metadata": {},
     "source": [
      "Recap:"
     ]
    },
    {
     "cell_type": "markdown",
     "metadata": {},
     "source": [
      " 1. Prototype\n",
      " 1. Profile\n",
      " 1. Optimize within python (Numpy / Scipy)\n",
      " 1. **Optimize with external code (C, Fortran)**"
     ]
    },
    {
     "cell_type": "markdown",
     "metadata": {},
     "source": [
      "## Extending python with other libraries\n",
      "\n",
      "Many options:\n",
      " * Python C API\n",
      " * Interface generators (f2py, swig, ...)\n",
      " * **ctypes** (https://docs.python.org/2/library/ctypes.html)\n",
      " \n",
      "## ctypes\n",
      "\n",
      " * Easy to use\n",
      " * Flexible\n",
      " * No changes required on the shared library\n",
      " * Reduces plataform portability"
     ]
    },
    {
     "cell_type": "markdown",
     "metadata": {},
     "source": [
      "## ctypes: overview\n",
      "\n",
      "> ctypes is a foreign function library for Python. It provides C compatible data types, and allows calling functions in DLLs or shared libraries. It can be used to wrap these libraries in pure Python.\n",
      "\n",
      "```\n",
      "#include <stdlib.h>\n",
      "\n",
      "/*\n",
      "  gcc -c -Wall -fPIC myabs.c\n",
      "  gcc -shared -o myabs.so myabs.o\n",
      "*/\n",
      "\n",
      "int myabs(int x) {\n",
      "  return abs(x);\n",
      "}\n",
      "\n",
      "```"
     ]
    },
    {
     "cell_type": "code",
     "collapsed": false,
     "input": [
      "!gcc -c -Wall -fPIC myabs.c\n",
      "!gcc -shared -o myabs.so myabs.o"
     ],
     "language": "python",
     "metadata": {},
     "outputs": [],
     "prompt_number": 7
    },
    {
     "cell_type": "code",
     "collapsed": false,
     "input": [
      "import ctypes\n",
      "\n",
      "c_lib = ctypes.cdll.LoadLibrary('./myabs.so')\n",
      "c_lib.myabs(-11)"
     ],
     "language": "python",
     "metadata": {},
     "outputs": [
      {
       "metadata": {},
       "output_type": "pyout",
       "prompt_number": 8,
       "text": [
        "11"
       ]
      }
     ],
     "prompt_number": 8
    },
    {
     "cell_type": "markdown",
     "metadata": {},
     "source": [
      "### 1. Load the shared library\n",
      "\n",
      "### 2. Call functions\n",
      "\n",
      "### 3. Types\n",
      "\n",
      "ctypes type | C type | Python type\n",
      "------------|--------|------------\n",
      "c_bool | _Bool | bool (1)\n",
      "c_char | char | 1-character string\n",
      "c_wchar | wchar_t | 1-character unicode string\n",
      "c_byte | char | int/long\n",
      "c_ubyte | unsigned char | int/long\n",
      "c_short | short | int/long\n",
      "c_ushort | unsigned short | int/long\n",
      "c_int | int | int/long\n",
      "c_uint | unsigned int | int/long\n",
      "c_long | long | int/long\n",
      "c_ulong | unsigned long | int/long\n",
      "c_longlong | __int64 or long long | int/long\n",
      "c_ulonglong | unsigned __int64 or unsigned long long | int/long\n",
      "c_float | float | float\n",
      "c_double | double | float\n",
      "c_longdouble | long double | float\n",
      "c_char_p | char * (NUL terminated) | string or None\n",
      "c_wchar_p | wchar_t * (NUL terminated) | unicode or None\n",
      "c_void_p | void * | int/long or None"
     ]
    },
    {
     "cell_type": "heading",
     "level": 3,
     "metadata": {},
     "source": [
      "Example 1, take 5 - With a little help from my friends..."
     ]
    },
    {
     "cell_type": "markdown",
     "metadata": {},
     "source": [
      "```\n",
      "#include <stdio.h>\n",
      "#include <math.h>\n",
      "\n",
      "/*\n",
      "  gcc -c -Wall -fPIC sum_abs.c\n",
      "  gcc -shared -o sum_abs.so sum_abs.o\n",
      "*/\n",
      "\n",
      "void sum_abs(float *in, int *num, float *out) {\n",
      "  int i;\n",
      "  float sum = 0;\n",
      "  for (i=0; i < *num; ++i) { \n",
      "    sum += fabs(in[i]);\n",
      "  }\n",
      "  *out = sum;\n",
      "  return;\n",
      "}\n",
      "```"
     ]
    },
    {
     "cell_type": "code",
     "collapsed": false,
     "input": [
      "!gcc -O3 -c -Wall -fPIC sum_abs.c\n",
      "!gcc -shared -o sum_abs.so sum_abs.o\n",
      "\n",
      "from ctypes import cdll, c_float, c_int, byref\n",
      "\n",
      "c_lib = ctypes.cdll.LoadLibrary('./sum_abs.so')\n",
      "\n",
      "# define a C array of floats\n",
      "NFloatType = ctypes.c_float * n_elements\n",
      "values_c = NFloatType()\n",
      "\n",
      "# initialize\n",
      "for i in xrange(len(values)):\n",
      "  values_c[i] = random.random()\n",
      "\n",
      "# other params\n",
      "n = ctypes.c_int(len(values))\n",
      "s = ctypes.c_float()\n",
      "\n",
      "# call\n",
      "# c_lib.sum_abs(ctypes.byref(values_c),\n",
      "#                ctypes.byref(n),\n",
      "#                ctypes.byref(s))\n",
      "\n",
      "%timeit -n 100 c_lib.sum_abs(ctypes.byref(values_c), ctypes.byref(n), ctypes.byref(s))"
     ],
     "language": "python",
     "metadata": {},
     "outputs": [
      {
       "output_type": "stream",
       "stream": "stdout",
       "text": [
        "100 loops, best of 3: 1.28 ms per loop\n"
       ]
      }
     ],
     "prompt_number": 9
    },
    {
     "cell_type": "heading",
     "level": 3,
     "metadata": {},
     "source": [
      "Example 1, take 6 - ... and an old colleague"
     ]
    },
    {
     "cell_type": "markdown",
     "metadata": {},
     "source": [
      "```Fortran\n",
      "subroutine sum_abs(in, num, out)\n",
      "    integer, intent(in) :: num\n",
      "    real (kind=4), intent(in) :: in(num)\n",
      "    real (kind=4), intent(out) :: out\n",
      "    real (kind=4) :: sum\n",
      "    sum = 0\n",
      "    do i=1,num\n",
      "      sum = sum + ABS(in(i))\n",
      "    end do\n",
      "    out = sum\n",
      "end subroutine sum_abs\n",
      "```"
     ]
    },
    {
     "cell_type": "code",
     "collapsed": false,
     "input": [
      "!gfortran -shared -fPIC -g -o sum_abs_f.so sum_abs.f90\n",
      "\n",
      "f_lib = ctypes.cdll.LoadLibrary('./sum_abs_f.so')\n",
      "\n",
      "# f_lib.sum_abs_(ctypes.byref(values), ctypes.byref(n), ctypes.byref(s))\n",
      "%timeit -n 100 f_lib.sum_abs_(ctypes.byref(values_c), ctypes.byref(n), ctypes.byref(s))"
     ],
     "language": "python",
     "metadata": {},
     "outputs": [
      {
       "output_type": "stream",
       "stream": "stdout",
       "text": [
        "100 loops, best of 3: 4.2 ms per loop\n"
       ]
      }
     ],
     "prompt_number": 10
    },
    {
     "cell_type": "markdown",
     "metadata": {},
     "source": [
      "## Example 2\n",
      "\n",
      " * Already working (and tested) code\n",
      " * New features (more input formats, GUI, scripting, ...)\n",
      "\n",
      "## F2PY - Fortran to Python interface generator\n",
      "\n",
      "http://docs.scipy.org/doc/numpy-dev/f2py/\n"
     ]
    },
    {
     "cell_type": "code",
     "collapsed": false,
     "input": [
      "! f2py -c -m sum_abs_f2py sum_abs.f90"
     ],
     "language": "python",
     "metadata": {},
     "outputs": [
      {
       "output_type": "stream",
       "stream": "stdout",
       "text": [
        "\u001b[39mrunning build\u001b[0m\r\n",
        "\u001b[39mrunning config_cc\u001b[0m\r\n",
        "\u001b[39munifing config_cc, config, build_clib, build_ext, build commands --compiler options\u001b[0m\r\n",
        "\u001b[39mrunning config_fc\u001b[0m\r\n",
        "\u001b[39munifing config_fc, config, build_clib, build_ext, build commands --fcompiler options\u001b[0m\r\n",
        "\u001b[39mrunning build_src\u001b[0m\r\n",
        "\u001b[39mbuild_src\u001b[0m\r\n",
        "\u001b[39mbuilding extension \"sum_abs_f2py\" sources\u001b[0m\r\n",
        "\u001b[39mf2py options: []\u001b[0m\r\n",
        "\u001b[39mf2py:> /tmp/tmph2XGi6/src.linux-x86_64-2.7/sum_abs_f2pymodule.c\u001b[0m\r\n",
        "\u001b[39mcreating /tmp/tmph2XGi6/src.linux-x86_64-2.7\u001b[0m\r\n",
        "Reading fortran codes...\r\n",
        "\tReading file 'sum_abs.f90' (format:free)\r\n",
        "Post-processing...\r\n",
        "\tBlock: sum_abs_f2py\r\n",
        "\t\t\tBlock: sum_abs\r\n",
        "Post-processing (stage 2)...\r\n",
        "Building modules...\r\n",
        "\tBuilding module \"sum_abs_f2py\"...\r\n",
        "\t\tConstructing wrapper function \"sum_abs\"...\r\n",
        "\t\t  out = sum_abs(in,[num])\r\n",
        "\tWrote C/API module \"sum_abs_f2py\" to file \"/tmp/tmph2XGi6/src.linux-x86_64-2.7/sum_abs_f2pymodule.c\"\r\n",
        "\u001b[39m  adding '/tmp/tmph2XGi6/src.linux-x86_64-2.7/fortranobject.c' to sources.\u001b[0m\r\n",
        "\u001b[39m  adding '/tmp/tmph2XGi6/src.linux-x86_64-2.7' to include_dirs.\u001b[0m\r\n",
        "\u001b[39mcopying /usr/lib/python2.7/dist-packages/numpy/f2py/src/fortranobject.c -> /tmp/tmph2XGi6/src.linux-x86_64-2.7\u001b[0m\r\n",
        "\u001b[39mcopying /usr/lib/python2.7/dist-packages/numpy/f2py/src/fortranobject.h -> /tmp/tmph2XGi6/src.linux-x86_64-2.7\u001b[0m\r\n",
        "\u001b[39mbuild_src: building npy-pkg config files\u001b[0m\r\n",
        "\u001b[39mrunning build_ext\u001b[0m\r\n",
        "\u001b[39mcustomize UnixCCompiler\u001b[0m\r\n",
        "\u001b[39mcustomize UnixCCompiler using build_ext\u001b[0m\r\n"
       ]
      },
      {
       "output_type": "stream",
       "stream": "stdout",
       "text": [
        "\u001b[39mcustomize Gnu95FCompiler\u001b[0m\r\n",
        "\u001b[39mFound executable /usr/bin/gfortran\u001b[0m\r\n",
        "\u001b[39mcustomize Gnu95FCompiler\u001b[0m\r\n",
        "\u001b[39mcustomize Gnu95FCompiler using build_ext\u001b[0m\r\n",
        "\u001b[39mbuilding 'sum_abs_f2py' extension\u001b[0m\r\n",
        "\u001b[39mcompiling C sources\u001b[0m\r\n",
        "\u001b[39mC compiler: x86_64-linux-gnu-gcc -pthread -DNDEBUG -g -fwrapv -O2 -Wall -Wstrict-prototypes -fno-strict-aliasing -D_FORTIFY_SOURCE=2 -g -fstack-protector-strong -Wformat -Werror=format-security -fPIC\r\n",
        "\u001b[0m\r\n",
        "\u001b[39mcreating /tmp/tmph2XGi6/tmp\u001b[0m\r\n",
        "\u001b[39mcreating /tmp/tmph2XGi6/tmp/tmph2XGi6\u001b[0m\r\n",
        "\u001b[39mcreating /tmp/tmph2XGi6/tmp/tmph2XGi6/src.linux-x86_64-2.7\u001b[0m\r\n",
        "\u001b[39mcompile options: '-I/tmp/tmph2XGi6/src.linux-x86_64-2.7 -I/usr/lib/python2.7/dist-packages/numpy/core/include -I/usr/include/python2.7 -c'\u001b[0m\r\n",
        "\u001b[39mx86_64-linux-gnu-gcc: /tmp/tmph2XGi6/src.linux-x86_64-2.7/fortranobject.c\u001b[0m\r\n"
       ]
      },
      {
       "output_type": "stream",
       "stream": "stdout",
       "text": [
        "In file included from /usr/lib/python2.7/dist-packages/numpy/core/include/numpy/ndarraytypes.h:1761:0,\r\n",
        "                 from /usr/lib/python2.7/dist-packages/numpy/core/include/numpy/ndarrayobject.h:17,\r\n",
        "                 from /usr/lib/python2.7/dist-packages/numpy/core/include/numpy/arrayobject.h:4,\r\n",
        "                 from /tmp/tmph2XGi6/src.linux-x86_64-2.7/fortranobject.h:13,\r\n",
        "                 from /tmp/tmph2XGi6/src.linux-x86_64-2.7/fortranobject.c:2:\r\n",
        "/usr/lib/python2.7/dist-packages/numpy/core/include/numpy/npy_1_7_deprecated_api.h:15:2: warning: #warning \"Using deprecated NumPy API, disable it by \" \"#defining NPY_NO_DEPRECATED_API NPY_1_7_API_VERSION\" [-Wcpp]\r\n",
        " #warning \"Using deprecated NumPy API, disable it by \" \\\r\n",
        "  ^\r\n"
       ]
      },
      {
       "output_type": "stream",
       "stream": "stdout",
       "text": [
        "\u001b[39mx86_64-linux-gnu-gcc: /tmp/tmph2XGi6/src.linux-x86_64-2.7/sum_abs_f2pymodule.c\u001b[0m\r\n"
       ]
      },
      {
       "output_type": "stream",
       "stream": "stdout",
       "text": [
        "In file included from /usr/lib/python2.7/dist-packages/numpy/core/include/numpy/ndarraytypes.h:1761:0,\r\n",
        "                 from /usr/lib/python2.7/dist-packages/numpy/core/include/numpy/ndarrayobject.h:17,\r\n",
        "                 from /usr/lib/python2.7/dist-packages/numpy/core/include/numpy/arrayobject.h:4,\r\n",
        "                 from /tmp/tmph2XGi6/src.linux-x86_64-2.7/fortranobject.h:13,\r\n",
        "                 from /tmp/tmph2XGi6/src.linux-x86_64-2.7/sum_abs_f2pymodule.c:18:\r\n",
        "/usr/lib/python2.7/dist-packages/numpy/core/include/numpy/npy_1_7_deprecated_api.h:15:2: warning: #warning \"Using deprecated NumPy API, disable it by \" \"#defining NPY_NO_DEPRECATED_API NPY_1_7_API_VERSION\" [-Wcpp]\r\n",
        " #warning \"Using deprecated NumPy API, disable it by \" \\\r\n",
        "  ^\r\n",
        "/tmp/tmph2XGi6/src.linux-x86_64-2.7/sum_abs_f2pymodule.c:111:12: warning: \u2018f2py_size\u2019 defined but not used [-Wunused-function]\r\n",
        " static int f2py_size(PyArrayObject* var, ...)\r\n",
        "            ^\r\n"
       ]
      },
      {
       "output_type": "stream",
       "stream": "stdout",
       "text": [
        "\u001b[39mcompiling Fortran sources\u001b[0m\r\n",
        "\u001b[39mFortran f77 compiler: /usr/bin/gfortran -Wall -ffixed-form -fno-second-underscore -fPIC -O3 -funroll-loops\r\n",
        "Fortran f90 compiler: /usr/bin/gfortran -Wall -fno-second-underscore -fPIC -O3 -funroll-loops\r\n",
        "Fortran fix compiler: /usr/bin/gfortran -Wall -ffixed-form -fno-second-underscore -Wall -fno-second-underscore -fPIC -O3 -funroll-loops\u001b[0m\r\n",
        "\u001b[39mcompile options: '-I/tmp/tmph2XGi6/src.linux-x86_64-2.7 -I/usr/lib/python2.7/dist-packages/numpy/core/include -I/usr/include/python2.7 -c'\u001b[0m\r\n",
        "\u001b[39mgfortran:f90: sum_abs.f90\u001b[0m\r\n"
       ]
      },
      {
       "output_type": "stream",
       "stream": "stdout",
       "text": [
        "\u001b[39m/usr/bin/gfortran -Wall -Wall -shared /tmp/tmph2XGi6/tmp/tmph2XGi6/src.linux-x86_64-2.7/sum_abs_f2pymodule.o /tmp/tmph2XGi6/tmp/tmph2XGi6/src.linux-x86_64-2.7/fortranobject.o /tmp/tmph2XGi6/sum_abs.o -lgfortran -o ./sum_abs_f2py.so\u001b[0m\r\n"
       ]
      },
      {
       "output_type": "stream",
       "stream": "stdout",
       "text": [
        "Removing build directory /tmp/tmph2XGi6\r\n"
       ]
      }
     ],
     "prompt_number": 11
    },
    {
     "cell_type": "code",
     "collapsed": false,
     "input": [
      "import sum_abs_f2py\n",
      "\n",
      "print sum_abs_f2py.sum_abs.__doc__\n",
      "\n",
      "#sum_abs_f2py.sum_abs(values, len(values))\n",
      "%timeit -n 100 sum_abs_f2py.sum_abs(values)"
     ],
     "language": "python",
     "metadata": {},
     "outputs": [
      {
       "output_type": "stream",
       "stream": "stdout",
       "text": [
        "out = sum_abs(in,[num])\n",
        "\n",
        "Wrapper for ``sum_abs``.\n",
        "\n",
        "Parameters\n",
        "----------\n",
        "in : input rank-1 array('f') with bounds (num)\n",
        "\n",
        "Other Parameters\n",
        "----------------\n",
        "num : input int, optional\n",
        "    Default: len(in)\n",
        "\n",
        "Returns\n",
        "-------\n",
        "out : float\n",
        "\n",
        "100 loops, best of 3: 73.4 ms per loop"
       ]
      },
      {
       "output_type": "stream",
       "stream": "stdout",
       "text": [
        "\n"
       ]
      }
     ],
     "prompt_number": 12
    },
    {
     "cell_type": "markdown",
     "metadata": {},
     "source": [
      "#### Slow?\n",
      "\n",
      "This is because it uses python list (linked lists).\n",
      "\n",
      "Let's try again with ctypes array:"
     ]
    },
    {
     "cell_type": "code",
     "collapsed": false,
     "input": [
      "import sum_abs_f2py\n",
      "\n",
      "#sum_abs_f2py.sum_abs(values, len(values_c))\n",
      "%timeit -n 100 sum_abs_f2py.sum_abs(values_c)"
     ],
     "language": "python",
     "metadata": {},
     "outputs": [
      {
       "output_type": "stream",
       "stream": "stdout",
       "text": [
        "100 loops, best of 3: 3.82 ms per loop\n"
       ]
      }
     ],
     "prompt_number": 21
    },
    {
     "cell_type": "heading",
     "level": 2,
     "metadata": {},
     "source": [
      "Done! Questions?"
     ]
    },
    {
     "cell_type": "markdown",
     "metadata": {},
     "source": [
      "## Still wants more?\n",
      "\n",
      "### ctype: Structures"
     ]
    },
    {
     "cell_type": "code",
     "collapsed": false,
     "input": [
      "from ctypes import Structure\n",
      "class POINT(Structure):\n",
      "    _fields_ = [(\"x\", c_int),\n",
      "                (\"y\", c_int)]\n",
      "\n",
      "point = POINT(10, 20)\n",
      "print point.x, point.y"
     ],
     "language": "python",
     "metadata": {},
     "outputs": [
      {
       "output_type": "stream",
       "stream": "stdout",
       "text": [
        "10 20\n"
       ]
      }
     ],
     "prompt_number": 13
    },
    {
     "cell_type": "code",
     "collapsed": false,
     "input": [
      "point = POINT(y=5)\n",
      "print point.x, point.y"
     ],
     "language": "python",
     "metadata": {},
     "outputs": [
      {
       "output_type": "stream",
       "stream": "stdout",
       "text": [
        "0 5\n"
       ]
      }
     ],
     "prompt_number": 14
    },
    {
     "cell_type": "code",
     "collapsed": false,
     "input": [
      "class RECT(Structure):\n",
      "    _fields_ = [(\"upperleft\", POINT),\n",
      "                (\"lowerright\", POINT)]\n",
      "\n",
      "rc = RECT(point)\n",
      "print rc.upperleft.x, rc.upperleft.y\n",
      "print rc.lowerright.x, rc.lowerright.y\n",
      "\n",
      "r = RECT(POINT(1, 2), POINT(3, 4))\n",
      "r = RECT((1, 2), (3, 4))"
     ],
     "language": "python",
     "metadata": {},
     "outputs": [
      {
       "output_type": "stream",
       "stream": "stdout",
       "text": [
        "0 5\n",
        "0 0\n"
       ]
      }
     ],
     "prompt_number": 15
    },
    {
     "cell_type": "markdown",
     "metadata": {},
     "source": [
      "### ctype: Passing pointers (or: passing parameters by reference)"
     ]
    },
    {
     "cell_type": "code",
     "collapsed": false,
     "input": [
      "from ctypes import cdll, create_string_buffer, byref, c_char_p, c_double, c_char, c_int, c_float\n",
      "\n",
      "libc = cdll.LoadLibrary('libc.so.6')\n",
      "\n",
      "i = c_int()\n",
      "f = c_float()\n",
      "s = create_string_buffer('\\000' * 32)\n",
      "print i.value, f.value, repr(s.value)\n",
      "\n",
      "libc.sscanf(\"1 3.14 Hello\", \"%d %f %s\",\n",
      "            byref(i), byref(f), s)\n",
      "\n",
      "print i.value, f.value, repr(s.value)"
     ],
     "language": "python",
     "metadata": {},
     "outputs": [
      {
       "output_type": "stream",
       "stream": "stdout",
       "text": [
        "0 0.0 ''\n",
        "1 3.1400001049 'Hello'\n"
       ]
      }
     ],
     "prompt_number": 6
    },
    {
     "cell_type": "markdown",
     "metadata": {},
     "source": [
      "### ctype: Specifying the required argument types (function prototypes)"
     ]
    },
    {
     "cell_type": "code",
     "collapsed": false,
     "input": [
      "printf = libc.printf\n",
      "\n",
      "printf.argtypes = [c_char_p, c_char_p, c_int, c_double]\n",
      "\n",
      "# works\n",
      "printf(\"String '%s', Int %d, Double %f\\n\", \"Hi\", 10, 2.2)\n",
      "\n",
      "# The output is in ipython console\n",
      "# String 'Hi', Int 10, Double 2.200000\n",
      "\n",
      "# raises an error\n",
      "printf(\"String '%s', Int %d, Double %f\\n\", \"Hi\", 10, \"a\")\n",
      "\n"
     ],
     "language": "python",
     "metadata": {},
     "outputs": [
      {
       "ename": "ArgumentError",
       "evalue": "argument 4: <type 'exceptions.TypeError'>: wrong type",
       "output_type": "pyerr",
       "traceback": [
        "\u001b[0;31m---------------------------------------------------------------------------\u001b[0m\n\u001b[0;31mArgumentError\u001b[0m                             Traceback (most recent call last)",
        "\u001b[0;32m<ipython-input-8-9e40bf26f47c>\u001b[0m in \u001b[0;36m<module>\u001b[0;34m()\u001b[0m\n\u001b[1;32m     10\u001b[0m \u001b[0;34m\u001b[0m\u001b[0m\n\u001b[1;32m     11\u001b[0m \u001b[0;31m# raises an error\u001b[0m\u001b[0;34m\u001b[0m\u001b[0;34m\u001b[0m\u001b[0m\n\u001b[0;32m---> 12\u001b[0;31m \u001b[0mprintf\u001b[0m\u001b[0;34m(\u001b[0m\u001b[0;34m\"String '%s', Int %d, Double %f\\n\"\u001b[0m\u001b[0;34m,\u001b[0m \u001b[0;34m\"Hi\"\u001b[0m\u001b[0;34m,\u001b[0m \u001b[0;36m10\u001b[0m\u001b[0;34m,\u001b[0m \u001b[0;34m\"a\"\u001b[0m\u001b[0;34m)\u001b[0m\u001b[0;34m\u001b[0m\u001b[0m\n\u001b[0m\u001b[1;32m     13\u001b[0m \u001b[0;34m\u001b[0m\u001b[0m\n",
        "\u001b[0;31mArgumentError\u001b[0m: argument 4: <type 'exceptions.TypeError'>: wrong type"
       ]
      }
     ],
     "prompt_number": 8
    },
    {
     "cell_type": "markdown",
     "metadata": {},
     "source": [
      "### ctype: Return types"
     ]
    },
    {
     "cell_type": "code",
     "collapsed": false,
     "input": [
      "# By default functions are assumed to return the C int type. \n",
      "#  Other return types can be specified by setting the restype attribute of the function object.\n",
      "\n",
      "strchr = libc.strchr\n",
      "\n",
      "# fix argtype\n",
      "strchr.argtypes = [c_char_p, c_char]\n",
      "\n",
      "print strchr(\"abcdef\", \"d\")"
     ],
     "language": "python",
     "metadata": {},
     "outputs": [
      {
       "output_type": "stream",
       "stream": "stdout",
       "text": [
        "-833834537\n"
       ]
      }
     ],
     "prompt_number": 9
    },
    {
     "cell_type": "code",
     "collapsed": false,
     "input": [
      "# c_char_p is a pointer to a string\n",
      "strchr.restype = c_char_p\n",
      "print strchr(\"abcdef\", \"d\")"
     ],
     "language": "python",
     "metadata": {},
     "outputs": [
      {
       "output_type": "stream",
       "stream": "stdout",
       "text": [
        "def\n"
       ]
      }
     ],
     "prompt_number": 10
    },
    {
     "cell_type": "markdown",
     "metadata": {},
     "source": [
      "    All material on this presentation is covered by CC BY-SA 4.0 and GPLv3 licenses. "
     ]
    }
   ],
   "metadata": {}
  }
 ]
}